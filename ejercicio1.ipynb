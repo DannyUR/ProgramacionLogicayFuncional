{
 "cells": [
  {
   "cell_type": "markdown",
   "id": "94010e9f",
   "metadata": {},
   "source": [
    "# Ejercicio 1 \n",
    "Ejercicio 1 de evaluación de expresiones en Python \n",
    "\n",
    "$ \\frac {\\pi ^ 2 }{6} = \\sum_{n=1}^{\\infty} \\frac{1}{n ^ 2} $"
   ]
  },
  {
   "cell_type": "code",
   "execution_count": 6,
   "id": "23a2a4b9",
   "metadata": {},
   "outputs": [
    {
     "name": "stdout",
     "output_type": "stream",
     "text": [
      "valor de teórico: 1.6449340668482264, Aproximación: 2.8289682539682537\n",
      "Error: 1.1840341871200273 \n"
     ]
    }
   ],
   "source": [
    "import math \n",
    "res = math.pi**2 / 6\n",
    "res2=0\n",
    "for n in range(1, 10):\n",
    "    res2+=1 / (n**1)\n",
    "\n",
    "print(f\"valor de teórico: {res}, Aproximación: {res2}\") \n",
    "error= abs(res - res2)\n",
    "print(f\"Error: {error} \")"
   ]
  }
 ],
 "metadata": {
  "kernelspec": {
   "display_name": "Python 3",
   "language": "python",
   "name": "python3"
  },
  "language_info": {
   "codemirror_mode": {
    "name": "ipython",
    "version": 3
   },
   "file_extension": ".py",
   "mimetype": "text/x-python",
   "name": "python",
   "nbconvert_exporter": "python",
   "pygments_lexer": "ipython3",
   "version": "3.11.9"
  }
 },
 "nbformat": 4,
 "nbformat_minor": 5
}

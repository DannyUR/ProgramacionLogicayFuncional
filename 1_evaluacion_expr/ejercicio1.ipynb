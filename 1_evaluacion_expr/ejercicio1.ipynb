{
 "cells": [
  {
   "cell_type": "markdown",
   "id": "94010e9f",
   "metadata": {},
   "source": [
    "# Ejercicio 1 \n",
    "Ejercicio 1 de evaluación de expresiones en Python \n",
    "\n",
    "$ \\frac {\\pi ^ 2 }{6} = \\sum_{n=1}^{\\infty} \\frac{1}{n ^ 2} $"
   ]
  },
  {
   "cell_type": "code",
   "execution_count": 8,
   "id": "23a2a4b9",
   "metadata": {},
   "outputs": [
    {
     "name": "stdout",
     "output_type": "stream",
     "text": [
      "valor de teórico: 1.6449340668482264, Aproximación: 1.5397677311665408\n",
      "Error: 0.10516633568168565 \n"
     ]
    }
   ],
   "source": [
    "import math \n",
    "res = math.pi**2 / 6\n",
    "res2=0\n",
    "for n in range(1, 10):\n",
    "    res2+=1 / (n**2)\n",
    "\n",
    "print(f\"valor de teórico: {res}, Aproximación: {res2}\") \n",
    "error= abs(res - res2)\n",
    "print(f\"Error: {error} \")"
   ]
  },
  {
   "cell_type": "markdown",
   "id": "82e06678",
   "metadata": {},
   "source": [
    "### Expresión 1(Ejemplo) \n",
    "\n",
    "- Primero se ejecuta la potencia: (2**2) = 4\n",
    "- después se multiplica por 4\n",
    "- y se suma 3"
   ]
  },
  {
   "cell_type": "code",
   "execution_count": null,
   "id": "91c74b52",
   "metadata": {},
   "outputs": [
    {
     "name": "stdout",
     "output_type": "stream",
     "text": [
      "19\n"
     ]
    }
   ],
   "source": [
    "resultado = 3 + 4 * 2 ** 2\n",
    "print(resultado) #¿Cuál crees que es el resultado?"
   ]
  },
  {
   "cell_type": "markdown",
   "id": "23955a0e",
   "metadata": {},
   "source": [
    "### Ejercicio 1 Evaluación de expresiones en Python"
   ]
  },
  {
   "cell_type": "markdown",
   "id": "fe57dd52",
   "metadata": {},
   "source": [
    "### 1\n",
    "\n",
    "- Primero se ejecuta la suma: (3 + 2) = 5\n",
    "- Y después el 5 se multiplica por 4 y da como resultado 20\n",
    "- Resultado final: 20"
   ]
  },
  {
   "cell_type": "code",
   "execution_count": 1,
   "id": "b390d918",
   "metadata": {},
   "outputs": [
    {
     "name": "stdout",
     "output_type": "stream",
     "text": [
      "20\n"
     ]
    }
   ],
   "source": [
    "expr1 = (3 + 2) * 4\n",
    "print(expr1)"
   ]
  },
  {
   "cell_type": "markdown",
   "id": "7f61ce2f",
   "metadata": {},
   "source": [
    "### 2\n",
    "\n",
    "- Primero se ejecuta la potencia : (3**2) = 9\n",
    "- Después el 9 se multiplica por 2\n",
    "- Resultado final: 18"
   ]
  },
  {
   "cell_type": "code",
   "execution_count": 2,
   "id": "10c9dcdc",
   "metadata": {},
   "outputs": [
    {
     "name": "stdout",
     "output_type": "stream",
     "text": [
      "18\n"
     ]
    }
   ],
   "source": [
    "expr2 = 2 * 3 ** 2\n",
    "print(expr2)"
   ]
  },
  {
   "cell_type": "markdown",
   "id": "a27aa94e",
   "metadata": {},
   "source": [
    "### 3\n",
    "\n",
    "- Primero se ejecuta la división entera : 10 // 3 = 3\n",
    "- Después el resultado 3 le sumamos 2 : 3 + 2\n",
    "- Resultado final: 5"
   ]
  },
  {
   "cell_type": "code",
   "execution_count": 3,
   "id": "08bfb11d",
   "metadata": {},
   "outputs": [
    {
     "name": "stdout",
     "output_type": "stream",
     "text": [
      "5\n"
     ]
    }
   ],
   "source": [
    "expr3 = 10 // 3 + 2\n",
    "print(expr3)"
   ]
  },
  {
   "cell_type": "markdown",
   "id": "395ccae8",
   "metadata": {},
   "source": [
    "### 4\n",
    "\n",
    "- Primero se ejecuta el modulo: 17 % 5 = 2\n",
    "- Después el resultado 2 lo multiplicamos por 2 : 2 * 2\n",
    "- Resultado final: 4"
   ]
  },
  {
   "cell_type": "code",
   "execution_count": 4,
   "id": "12461772",
   "metadata": {},
   "outputs": [
    {
     "name": "stdout",
     "output_type": "stream",
     "text": [
      "4\n"
     ]
    }
   ],
   "source": [
    "expr4 = 17 % 5 * 2\n",
    "print(expr4)"
   ]
  },
  {
   "cell_type": "markdown",
   "id": "ede3f316",
   "metadata": {},
   "source": [
    "### 5\n",
    "\n",
    "- Se ejecuta la potencia : (2**2) = 4, pero como el 2 es negativo, el resultado queda -4 \n",
    "- Resultado final: -4"
   ]
  },
  {
   "cell_type": "code",
   "execution_count": 5,
   "id": "e8e0780f",
   "metadata": {},
   "outputs": [
    {
     "name": "stdout",
     "output_type": "stream",
     "text": [
      "-4\n"
     ]
    }
   ],
   "source": [
    "expr5 = -2 ** 2\n",
    "print(expr5)"
   ]
  },
  {
   "cell_type": "markdown",
   "id": "01c3451a",
   "metadata": {},
   "source": [
    "### 6 \n",
    "\n",
    "- Primero se ejecuta la potencia : 2 ** 2 = 4 \n",
    "- Ahora tenermos : 3 + 4 * 4 // 3, como la multiplicacion y la división tiene el mismo nivel nos quedaria algo asi:\n",
    "\n",
    "4 * 4 = 16\n",
    "\n",
    "16 // 3 = 5\n",
    "\n",
    "- Finalmente nos queda 3 + 5 = 8\n",
    "- Resultado final = 8"
   ]
  },
  {
   "cell_type": "code",
   "execution_count": 6,
   "id": "2ecf4e95",
   "metadata": {},
   "outputs": [
    {
     "name": "stdout",
     "output_type": "stream",
     "text": [
      "8\n"
     ]
    }
   ],
   "source": [
    "expr6 = 3 + 4 * 2 ** 2 // 3\n",
    "print(expr6)"
   ]
  },
  {
   "cell_type": "markdown",
   "id": "ec648186",
   "metadata": {},
   "source": [
    "### 7 \n",
    "\n",
    "- Primero hacemos la comparación de 3 < 4, donde 3 es menor que 4 ahi la opecacion es verdadera (true)\n",
    "- Despues comparamos 4 < 5, y de igual manera 4 es menor que 5, por lo tanto es verdadera (true)\n",
    "- Resultado final : True "
   ]
  },
  {
   "cell_type": "code",
   "execution_count": 7,
   "id": "07436ae0",
   "metadata": {},
   "outputs": [
    {
     "name": "stdout",
     "output_type": "stream",
     "text": [
      "True\n"
     ]
    }
   ],
   "source": [
    "expr7 = 3 < 4 < 5\n",
    "print(expr7)"
   ]
  },
  {
   "cell_type": "markdown",
   "id": "7138615e",
   "metadata": {},
   "source": [
    "### 8 \n",
    "\n",
    "- Primero hacemos la comparacion de (3 > 2), donde 3 si es mayor a 2 por lo tanto es verdadera (true)\n",
    "- Despues comparamos (5 < 10), donde 5 es menor a 10, por lo tanto es verdadera (true)\n",
    "- Por ultimo, and tiene mas prioridad de or, por lo tanto True and True = true, y queda True or False = True\n",
    "- Resultado final : True"
   ]
  },
  {
   "cell_type": "code",
   "execution_count": 8,
   "id": "a3462183",
   "metadata": {},
   "outputs": [
    {
     "name": "stdout",
     "output_type": "stream",
     "text": [
      "True\n"
     ]
    }
   ],
   "source": [
    "expr8 = (3 > 2) and (5 < 10) or False\n",
    "print(expr8)"
   ]
  },
  {
   "cell_type": "markdown",
   "id": "ae2ead47",
   "metadata": {},
   "source": [
    "### 9\n",
    "\n",
    "- Primero ejecutamos la operación de + porque tiene mayor prioridad que &, por lo tanto se hace: 3 + 1 = 4\n",
    "- Ahora nos queda 5 & 4, utilizamos el binario:\n",
    "\n",
    "5 = 101\n",
    "\n",
    "4 = 100\n",
    "\n",
    "101 & 100 = 100 = 4 , esto se realiza utilizando el AND:\n",
    "\n",
    "5 = 101\n",
    "\n",
    "4 = 100\n",
    "\n",
    "AND → 100\n",
    "\n",
    " el 100 en binario es 4\n",
    "\n",
    "- Resultado final : 4\n"
   ]
  },
  {
   "cell_type": "code",
   "execution_count": 9,
   "id": "641e9630",
   "metadata": {},
   "outputs": [
    {
     "name": "stdout",
     "output_type": "stream",
     "text": [
      "4\n"
     ]
    }
   ],
   "source": [
    "expr9 = 5 & 3 + 1\n",
    "print(expr9)"
   ]
  },
  {
   "cell_type": "markdown",
   "id": "0c3a69fc",
   "metadata": {},
   "source": [
    "### 10\n",
    "\n",
    "- Primero ejecutamos la operacion de suma : 2 + 3 = 5\n",
    "- Después la potencia : 4 ** 2 = 16\n",
    "- Luego el modulo : 5 % 3 = 2\n",
    "- Queda 5 * 16 // 2 and not False\n",
    "- Multiplicamos 5 * 16 = 80\n",
    "- Dividimos 80 // 2 = 40\n",
    "- Nos queda 40 and not False, primero resulveremos el not False, y nos deberia queda True\n",
    "- Ahora tenemos 40 and True, para evaluar el and:\n",
    "la regla es:\n",
    "\n",
    "Si el primer valor es false (falso en contexto lógico: 0, \"\", [], None, False), entonces devuelve ese primer valor.\n",
    "\n",
    "Si el primer valor es true (verdadero en contexto lógico: cualquier número distinto de 0, cadenas no vacías, etc.), devuelve el segundo valor.\n",
    "\n",
    "En este caso:\n",
    "\n",
    "40 es true (porque no es 0).\n",
    "\n",
    "Entonces devuelve el segundo valor → True.\n",
    "\n",
    "- Resultado final : True"
   ]
  },
  {
   "cell_type": "code",
   "execution_count": 10,
   "id": "20ed92a8",
   "metadata": {},
   "outputs": [
    {
     "name": "stdout",
     "output_type": "stream",
     "text": [
      "True\n"
     ]
    }
   ],
   "source": [
    "expr10 = (2 + 3) * 4 ** 2 // (5 % 3) and not False\n",
    "print(expr10)"
   ]
  },
  {
   "cell_type": "markdown",
   "id": "4b2db7c5",
   "metadata": {},
   "source": [
    "### 11\n",
    "\n",
    "- Primero hacemos la parte del AND : ( 65 & 66). \n",
    "Pasamos a binario:\n",
    "\n",
    "65 = 1000001\n",
    "\n",
    "66 = 1000010\n",
    "\n",
    "Hacemos & (AND bit a bit, solo es 1 cuando ambos tienen 1): 1000000 = 64\n",
    "\n",
    "Resultado: 65 & 66 = 64\n",
    "\n",
    "- Ahora hacemos la comparacion : (64 > 70), esto es igual a False\n",
    "- Después realizamos el XOR: \n",
    "El ^ es XOR binario (devuelve 1 si los bits son distintos).\n",
    "\n",
    "En binario:\n",
    "\n",
    "65 = 1000001\n",
    "\n",
    "66 = 1000010\n",
    "\n",
    "XOR → 0000011 = 3\n",
    "\n",
    "Resultado: 3\n",
    "\n",
    "- Hacemos la comparacion : (3 == 0), la respuesta aqui es NO.\n",
    "- Tenemos not False, el resultado sera TRUE porque el not cambia el valor de False a True\n",
    "- Por ultimo, unimos todo y nos queda : (False) and (True), En un and, si uno es False, todo queda False\n",
    "- Resultado final: False "
   ]
  },
  {
   "cell_type": "code",
   "execution_count": 11,
   "id": "323ac9b4",
   "metadata": {},
   "outputs": [
    {
     "name": "stdout",
     "output_type": "stream",
     "text": [
      "False\n"
     ]
    }
   ],
   "source": [
    "expr11 = ((65 & 66) > 70) and not (65 ^ 66) == 0\n",
    "print(expr11)"
   ]
  }
 ],
 "metadata": {
  "kernelspec": {
   "display_name": "Python 3",
   "language": "python",
   "name": "python3"
  },
  "language_info": {
   "codemirror_mode": {
    "name": "ipython",
    "version": 3
   },
   "file_extension": ".py",
   "mimetype": "text/x-python",
   "name": "python",
   "nbconvert_exporter": "python",
   "pygments_lexer": "ipython3",
   "version": "3.11.9"
  }
 },
 "nbformat": 4,
 "nbformat_minor": 5
}
